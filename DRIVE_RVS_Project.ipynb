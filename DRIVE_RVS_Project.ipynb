{
 "cells": [
  {
   "cell_type": "markdown",
   "metadata": {},
   "source": [
    "# DRIVE Dataset Retinal Vessels Segmentation\n",
    "\n",
    "**Author:** Mohammad Ahadzadeh  \n",
    "**Date:** April 3, 2025  \n",
    "**Project:** Retinal Vessel Segmentation "
   ]
  },
  {
   "cell_type": "markdown",
   "metadata": {},
   "source": [
    "## Preprocessing the Images\n"
   ]
  },
  {
   "cell_type": "markdown",
   "metadata": {},
   "source": [
    "### Extract the Green Channel\n",
    "Retinal images often show vessels best in the green channel, so we will extract the green channel from the input images. This will help us to view and segment the vessels more clearly [1].\n"
   ]
  },
  {
   "cell_type": "code",
   "execution_count": 2,
   "metadata": {},
   "outputs": [],
   "source": [
    "import cv2\n",
    "import numpy as np\n",
    "import matplotlib.pyplot as plt\n",
    "image = cv2.imread(\"DRIVE/training/images/22_training.tif\")\n",
    "green_channel = image[:, :, 1] \n"
   ]
  },
  {
   "cell_type": "markdown",
   "metadata": {},
   "source": [
    "### Apply Contrast Limited Adaptive Histogram Equalization (CLAHE)\n",
    "\n",
    "Using this method we can enhance the vessels-background contrast without amplifying noise [2]."
   ]
  },
  {
   "cell_type": "code",
   "execution_count": 3,
   "metadata": {},
   "outputs": [],
   "source": [
    "clahe = cv2.createCLAHE(clipLimit=5.5, tileGridSize=(32,32))\n",
    "enhanced = clahe.apply(green_channel)\n"
   ]
  },
  {
   "cell_type": "markdown",
   "metadata": {},
   "source": [
    "### Noise Reduction and Vessel Enhancement\n",
    "\n",
    "Using the Frangi filter from scikit-image is ideal for detecting tubular structures like vessels [3].\n",
    "\n"
   ]
  },
  {
   "cell_type": "code",
   "execution_count": 6,
   "metadata": {},
   "outputs": [],
   "source": [
    "from skimage import img_as_float\n",
    "from skimage.filters import frangi\n",
    "enhanced_float = img_as_float(enhanced)\n",
    "vesselness = frangi(enhanced_float, sigmas=(1, 15), scale_step=2, beta=5, gamma=0.04)\n"
   ]
  },
  {
   "cell_type": "markdown",
   "metadata": {},
   "source": [
    "## Segmentation of Vessels\n",
    "### Thresholding \n",
    "Otsu's method is a simple and effective method for thresholding vessels in retinal images [4]."
   ]
  },
  {
   "cell_type": "code",
   "execution_count": 7,
   "metadata": {},
   "outputs": [],
   "source": [
    "from skimage.filters import threshold_otsu\n",
    "thresh = threshold_otsu(vesselness)\n",
    "binary = vesselness > thresh\n"
   ]
  },
  {
   "cell_type": "markdown",
   "metadata": {},
   "source": [
    "### Morphological Operations\n",
    "\n",
    "Using the closing operation to connect small objects and the opening operation to remove noise."
   ]
  },
  {
   "cell_type": "code",
   "execution_count": 8,
   "metadata": {},
   "outputs": [],
   "source": [
    "from skimage.morphology import closing, opening, disk\n",
    "selem_close = disk(1)\n",
    "cleaned = closing(binary, selem_close)"
   ]
  },
  {
   "cell_type": "markdown",
   "metadata": {},
   "source": [
    "### Removing small objects\n",
    "\n",
    "To remove small objects we will keep the connected components and remove components that are smaller than a certain threshold.\n"
   ]
  },
  {
   "cell_type": "code",
   "execution_count": 10,
   "metadata": {},
   "outputs": [],
   "source": [
    "from skimage.morphology import remove_small_objects\n",
    "min_size = 35\n",
    "cleaned = remove_small_objects(cleaned, min_size=min_size)\n",
    "segmented = (cleaned * 255).astype(np.uint8)\n"
   ]
  },
  {
   "cell_type": "markdown",
   "metadata": {},
   "source": [
    "## Apply the Field of View Mask"
   ]
  },
  {
   "cell_type": "code",
   "execution_count": 11,
   "metadata": {},
   "outputs": [
    {
     "data": {
      "text/plain": [
       "-1"
      ]
     },
     "execution_count": 11,
     "metadata": {},
     "output_type": "execute_result"
    }
   ],
   "source": [
    "import cv2\n",
    "mask_path = \"DRIVE/training/masks/22_training_mask.gif\"\n",
    "mask = cv2.imread(mask_path, cv2.IMREAD_GRAYSCALE)\n",
    "_, mask_binary = cv2.threshold(mask, 127, 255, cv2.THRESH_BINARY)\n",
    "segmented_masked = cv2.bitwise_and(segmented, segmented, mask=mask_binary)\n",
    "cv2.imshow(\"Segmented Vessels\", segmented_masked)\n",
    "cv2.waitKey(0)"
   ]
  },
  {
   "cell_type": "markdown",
   "metadata": {},
   "source": [
    "## Implementation"
   ]
  },
  {
   "cell_type": "markdown",
   "metadata": {},
   "source": [
    "This notebook only provides a detailed representation of this project. However, the actual execution of the segmentation pipeline, including file handling and the calculation of performance metrics across all data is written by a separate Python script located in the same directory as this notebook, named \"DRIVE_RVS_Project.py\"."
   ]
  },
  {
   "cell_type": "markdown",
   "metadata": {},
   "source": [
    "## Tweaking Parameters\n",
    "\n",
    "To optimize the segmentation pipeline, several parameters were adjusted based on visual inspection and quantitive results.\n",
    "\n",
    "CLAHE Parameters:\n",
    "\n",
    "I picked clipLimit=5.5 and tileGridSize=(32,32)`. These settings enhanced contrast and helped to recognizing vessels as much as possible but introduced some noise.\n",
    "  \n",
    "Frangi Filter Parameters:\n",
    "\n",
    "The original sigmas=(1, 15) with scale_step=2 was effective, but finding beta=5 and gamma=0.04 by trials and errors took a while but I think I just found the right balance.\n"
   ]
  },
  {
   "cell_type": "markdown",
   "metadata": {},
   "source": [
    "## Results"
   ]
  },
  {
   "cell_type": "code",
   "execution_count": null,
   "metadata": {},
   "outputs": [],
   "source": [
    "Average Metrics:\n",
    "Accuracy:    0.9419\n",
    "Sensitivity: 0.6074\n",
    "Specificity: 0.9737\n",
    "Dice Coeff:  0.6430"
   ]
  },
  {
   "cell_type": "markdown",
   "metadata": {},
   "source": [
    "Comparing to the similar approaches that utilized traditional image processing methods like me, my result seems to be decent, especially considering that this is my first experience in image processing field but there are a lot to improve. I'll keep learning and I might explore more advanced techniques in the future."
   ]
  },
  {
   "cell_type": "markdown",
   "metadata": {},
   "source": [
    "## References"
   ]
  },
  {
   "cell_type": "markdown",
   "metadata": {},
   "source": [
    "“DRIVE Digital Retinal Images for Vessel Extraction.” Accessed: Apr. 03, 2025. [Online]. Available: https://www.kaggle.com/datasets/andrewmvd/drive-digital-retinal-images-for-vessel-extraction\n",
    "\n",
    "[1]\tA. Khanal and R. Estrada, “Dynamic Deep Networks for Retinal Vessel Segmentation,” Front. Comput. Sci., vol. 2, Aug. 2020, doi: 10.3389/fcomp.2020.00035.\n",
    "\n",
    "[2]\tN. Memari, A. R. Ramli, M. I. B. Saripan, S. Mashohor, and M. Moghbel, “Retinal Blood Vessel Segmentation by Using Matched Filtering and Fuzzy C-means Clustering with Integrated Level Set Method for Diabetic Retinopathy Assessment,” J. Med. Biol. Eng., vol. 39, no. 5, pp. 713–731, Oct. 2019, doi: 10.1007/s40846-018-0454-2.\n",
    "\n",
    "[3]\tS. Mahapatra, S. Agrawal, P. K. Mishro, and R. B. Pachori, “A novel framework for retinal vessel segmentation using optimal improved frangi filter and adaptive weighted spatial FCM,” Comput. Biol. Med., vol. 147, p. 105770, Aug. 2022, doi: 10.1016/j.compbiomed.2022.105770.\n",
    "\n",
    "[4]\tF. Tian, Y. Li, J. Wang, and W. Chen, “Blood Vessel Segmentation of Fundus Retinal Images Based on Improved Frangi and Mathematical Morphology,” Comput. Math. Methods Med., vol. 2021, p. 4761517, May 2021, doi: 10.1155/2021/4761517."
   ]
  },
  {
   "cell_type": "markdown",
   "metadata": {},
   "source": []
  }
 ],
 "metadata": {
  "kernelspec": {
   "display_name": "Python 3",
   "language": "python",
   "name": "python3"
  },
  "language_info": {
   "codemirror_mode": {
    "name": "ipython",
    "version": 3
   },
   "file_extension": ".py",
   "mimetype": "text/x-python",
   "name": "python",
   "nbconvert_exporter": "python",
   "pygments_lexer": "ipython3",
   "version": "3.13.2"
  }
 },
 "nbformat": 4,
 "nbformat_minor": 2
}
